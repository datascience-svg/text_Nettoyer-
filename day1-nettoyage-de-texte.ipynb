{
 "cells": [
  {
   "cell_type": "markdown",
   "metadata": {},
   "source": [
    "### Suppression ddes caracteres speciaux"
   ]
  },
  {
   "cell_type": "code",
   "execution_count": 2,
   "metadata": {},
   "outputs": [],
   "source": [
    "import nltk\n",
    "from nltk.tokenize import word_tokenize"
   ]
  },
  {
   "cell_type": "code",
   "execution_count": 34,
   "metadata": {},
   "outputs": [
    {
     "name": "stderr",
     "output_type": "stream",
     "text": [
      "[nltk_data] Downloading package punkt_tab to\n",
      "[nltk_data]     C:\\Users\\Pr\\AppData\\Roaming\\nltk_data...\n",
      "[nltk_data]   Unzipping tokenizers\\punkt_tab.zip.\n"
     ]
    },
    {
     "data": {
      "text/plain": [
       "True"
      ]
     },
     "execution_count": 34,
     "metadata": {},
     "output_type": "execute_result"
    }
   ],
   "source": [
    "nltk.download('punkt_tab')"
   ]
  },
  {
   "cell_type": "code",
   "execution_count": 12,
   "metadata": {},
   "outputs": [
    {
     "name": "stderr",
     "output_type": "stream",
     "text": [
      "[nltk_data] Downloading package punkt to\n",
      "[nltk_data]     C:\\Users\\Pr\\AppData\\Roaming\\nltk_data...\n",
      "[nltk_data]   Package punkt is already up-to-date!\n"
     ]
    },
    {
     "data": {
      "text/plain": [
       "True"
      ]
     },
     "execution_count": 12,
     "metadata": {},
     "output_type": "execute_result"
    }
   ],
   "source": [
    "nltk.download('punkt')"
   ]
  },
  {
   "cell_type": "code",
   "execution_count": 13,
   "metadata": {},
   "outputs": [],
   "source": [
    "def suppression_ponctuation(text):\n",
    "    words = word_tokenize(text)\n",
    "    words_without_punctuation =[word for word in \\\n",
    "                                words if word.isalnum()\n",
    "                                ]\n",
    "    clean_text =\"\".join(words_without_punctuation)\n",
    "    return clean_text"
   ]
  },
  {
   "cell_type": "code",
   "execution_count": 16,
   "metadata": {},
   "outputs": [],
   "source": [
    "exemple =\"Bonjour madame, Comment allez vous?\"\n",
    "text1 = \"hello, dear how are you today? Is everything fine?\""
   ]
  },
  {
   "cell_type": "code",
   "execution_count": 36,
   "metadata": {},
   "outputs": [
    {
     "data": {
      "text/plain": [
       "'BonjourmadameCommentallezvous'"
      ]
     },
     "execution_count": 36,
     "metadata": {},
     "output_type": "execute_result"
    }
   ],
   "source": [
    "suppression_ponctuation(exemple)"
   ]
  },
  {
   "cell_type": "markdown",
   "metadata": {},
   "source": [
    "### Supression des mots vides(Stopwords)"
   ]
  },
  {
   "cell_type": "code",
   "execution_count": 19,
   "metadata": {},
   "outputs": [],
   "source": [
    "from nltk.corpus import stopwords"
   ]
  },
  {
   "cell_type": "code",
   "execution_count": 21,
   "metadata": {},
   "outputs": [
    {
     "name": "stderr",
     "output_type": "stream",
     "text": [
      "[nltk_data] Downloading package stopwords to\n",
      "[nltk_data]     C:\\Users\\Pr\\AppData\\Roaming\\nltk_data...\n",
      "[nltk_data]   Package stopwords is already up-to-date!\n"
     ]
    },
    {
     "data": {
      "text/plain": [
       "True"
      ]
     },
     "execution_count": 21,
     "metadata": {},
     "output_type": "execute_result"
    }
   ],
   "source": [
    "nltk.download('stopwords')"
   ]
  },
  {
   "cell_type": "code",
   "execution_count": 35,
   "metadata": {},
   "outputs": [
    {
     "name": "stderr",
     "output_type": "stream",
     "text": [
      "[nltk_data] Downloading package punkt_tab to\n",
      "[nltk_data]     C:\\Users\\Pr\\AppData\\Roaming\\nltk_data...\n",
      "[nltk_data]   Package punkt_tab is already up-to-date!\n"
     ]
    },
    {
     "data": {
      "text/plain": [
       "True"
      ]
     },
     "execution_count": 35,
     "metadata": {},
     "output_type": "execute_result"
    }
   ],
   "source": [
    "nltk.download('punkt_tab')"
   ]
  },
  {
   "cell_type": "code",
   "execution_count": 22,
   "metadata": {},
   "outputs": [],
   "source": [
    "stop_words =set(stopwords.words('english'))\n",
    "mots_vides = set(stopwords.words('french'))"
   ]
  },
  {
   "cell_type": "code",
   "execution_count": 23,
   "metadata": {},
   "outputs": [],
   "source": [
    "phrase = \"Il y a beaucoup de films dans le monde, mais tres peu ont gagne l'oscar\"\n",
    "sentence = \"There are so many movies in the world, but, just few of them were able to win Oscar\""
   ]
  },
  {
   "cell_type": "code",
   "execution_count": 37,
   "metadata": {},
   "outputs": [],
   "source": [
    "mots = word_tokenize(phrase)\n",
    "words = word_tokenize(sentence)"
   ]
  },
  {
   "cell_type": "code",
   "execution_count": 39,
   "metadata": {},
   "outputs": [],
   "source": [
    "mots_filtres =[w for w in mots if w.lower() not in mots_vides]\n",
    "filtered_words = [w for w in words if w.lower() not in stop_words]"
   ]
  },
  {
   "cell_type": "code",
   "execution_count": 40,
   "metadata": {},
   "outputs": [
    {
     "name": "stdout",
     "output_type": "stream",
     "text": [
      "['Il', 'y', 'a', 'beaucoup', 'de', 'films', 'dans', 'le', 'monde', ',', 'mais', 'tres', 'peu', 'ont', 'gagne', \"l'oscar\"]\n",
      "['a', 'beaucoup', 'films', 'monde', ',', 'tres', 'peu', 'gagne', \"l'oscar\"]\n"
     ]
    }
   ],
   "source": [
    "print(mots)\n",
    "print(mots_filtres)"
   ]
  },
  {
   "cell_type": "code",
   "execution_count": 41,
   "metadata": {},
   "outputs": [
    {
     "name": "stdout",
     "output_type": "stream",
     "text": [
      "phrase originales:\n",
      " Il y a beaucoup de films dans le monde, mais tres peu ont gagne l'oscar\n",
      "Phrase apres retrait des mots vides\n",
      " abeaucoupfilmsmonde,trespeugagnel'oscar\n"
     ]
    }
   ],
   "source": [
    "print('phrase originales:\\n',phrase)\n",
    "print('Phrase apres retrait des mots vides\\n',\"\".join(mots_filtres))"
   ]
  },
  {
   "cell_type": "markdown",
   "metadata": {},
   "source": [
    "### Gestions des entites numeriques et noms"
   ]
  },
  {
   "cell_type": "code",
   "execution_count": 42,
   "metadata": {},
   "outputs": [],
   "source": [
    "import re \n",
    "from dateutil.parser import parse "
   ]
  },
  {
   "cell_type": "code",
   "execution_count": 43,
   "metadata": {},
   "outputs": [],
   "source": [
    "text = \" les ventes de l'anee 2023 ont ateint !100000 le 12-12-2023\""
   ]
  },
  {
   "cell_type": "code",
   "execution_count": 44,
   "metadata": {},
   "outputs": [
    {
     "data": {
      "text/plain": [
       "[2023, 100000, 12, 12, 2023]"
      ]
     },
     "execution_count": 44,
     "metadata": {},
     "output_type": "execute_result"
    }
   ],
   "source": [
    "#Extraire des donnees numeriques\n",
    "entite_numerique = [int(match) for match in re.findall(r'\\d+',text)\n",
    "                    ]\n",
    "entite_numerique"
   ]
  },
  {
   "cell_type": "markdown",
   "metadata": {},
   "source": [
    "### Gestion des abreviations et contractions "
   ]
  },
  {
   "cell_type": "code",
   "execution_count": 49,
   "metadata": {},
   "outputs": [],
   "source": [
    "text =\"I'm happy to see you and i can't wait to discuss about NLP\""
   ]
  },
  {
   "cell_type": "code",
   "execution_count": 52,
   "metadata": {},
   "outputs": [],
   "source": [
    "contraction_dict = {\"I'm\":\"I am\",\"can't\":'cannot',\"NLP\":'Natural Language Processus'}\n",
    "\n",
    "def expand_contraction(text, contraction_dict):\n",
    "    words = text.split()\n",
    "    expanded_words =[contraction_dict.get(word, word) for word in words]\n",
    "    expanded_text = \" \".join(expanded_words)\n",
    "    return expanded_text\n"
   ]
  },
  {
   "cell_type": "code",
   "execution_count": 53,
   "metadata": {},
   "outputs": [
    {
     "name": "stdout",
     "output_type": "stream",
     "text": [
      "Original text:\n",
      " I'm happy to see you and i can't wait to discuss about NLP\n",
      "Expanded text:\n",
      " I am happy to see you and i cannot wait to discuss about Natural Language Processus\n"
     ]
    }
   ],
   "source": [
    "print(\"Original text:\\n\",text)\n",
    "print(\"Expanded text:\\n\",expand_contraction(text,contraction_dict))"
   ]
  },
  {
   "cell_type": "markdown",
   "metadata": {},
   "source": [
    "### Tokenization des phrases"
   ]
  },
  {
   "cell_type": "code",
   "execution_count": 54,
   "metadata": {},
   "outputs": [],
   "source": [
    "paragraph = \"Bonjour comment allez_vous?\\\n",
    "    Existe t'il dans cette classe quelqu'un pour aider a resoudre le \\\n",
    "        premier exercise? si oui qu'il commence donc\""
   ]
  },
  {
   "cell_type": "code",
   "execution_count": 55,
   "metadata": {},
   "outputs": [
    {
     "data": {
      "text/plain": [
       "\"Bonjour comment allez_vous?    Existe t'il dans cette classe quelqu'un pour aider a resoudre le         premier exercise? si oui qu'il commence donc\""
      ]
     },
     "execution_count": 55,
     "metadata": {},
     "output_type": "execute_result"
    }
   ],
   "source": [
    "paragraph"
   ]
  },
  {
   "cell_type": "code",
   "execution_count": 56,
   "metadata": {},
   "outputs": [],
   "source": [
    "import nltk\n",
    "from nltk.tokenize import sent_tokenize, word_tokenize"
   ]
  },
  {
   "cell_type": "code",
   "execution_count": 57,
   "metadata": {},
   "outputs": [
    {
     "data": {
      "text/plain": [
       "['Bonjour comment allez_vous?',\n",
       " \"Existe t'il dans cette classe quelqu'un pour aider a resoudre le         premier exercise?\",\n",
       " \"si oui qu'il commence donc\"]"
      ]
     },
     "execution_count": 57,
     "metadata": {},
     "output_type": "execute_result"
    }
   ],
   "source": [
    "sent_tokenize(paragraph)"
   ]
  },
  {
   "cell_type": "code",
   "execution_count": 58,
   "metadata": {},
   "outputs": [
    {
     "data": {
      "text/plain": [
       "['Bonjour',\n",
       " 'comment',\n",
       " 'allez_vous',\n",
       " '?',\n",
       " 'Existe',\n",
       " \"t'il\",\n",
       " 'dans',\n",
       " 'cette',\n",
       " 'classe',\n",
       " \"quelqu'un\",\n",
       " 'pour',\n",
       " 'aider',\n",
       " 'a',\n",
       " 'resoudre',\n",
       " 'le',\n",
       " 'premier',\n",
       " 'exercise',\n",
       " '?',\n",
       " 'si',\n",
       " 'oui',\n",
       " \"qu'il\",\n",
       " 'commence',\n",
       " 'donc']"
      ]
     },
     "execution_count": 58,
     "metadata": {},
     "output_type": "execute_result"
    }
   ],
   "source": [
    "word_tokenize(paragraph)"
   ]
  },
  {
   "cell_type": "markdown",
   "metadata": {},
   "source": [
    "### Stemming avec nltk"
   ]
  },
  {
   "cell_type": "code",
   "execution_count": 63,
   "metadata": {},
   "outputs": [],
   "source": [
    "from nltk.stem import LancasterStemmer,SnowballStemmer,PorterStemmer\n",
    "from nltk.tokenize import word_tokenize"
   ]
  },
  {
   "cell_type": "code",
   "execution_count": 61,
   "metadata": {},
   "outputs": [],
   "source": [
    "sentence = \"Frogs are dancing and dogs are singing\""
   ]
  },
  {
   "cell_type": "code",
   "execution_count": 62,
   "metadata": {},
   "outputs": [
    {
     "name": "stdout",
     "output_type": "stream",
     "text": [
      "['Frogs', 'are', 'dancing', 'and', 'dogs', 'are', 'singing']\n"
     ]
    }
   ],
   "source": [
    "tokens = word_tokenize(sentence)\n",
    "print(tokens)"
   ]
  },
  {
   "cell_type": "code",
   "execution_count": 64,
   "metadata": {},
   "outputs": [],
   "source": [
    "stemmers =[PorterStemmer(),LancasterStemmer(),SnowballStemmer('english')]"
   ]
  },
  {
   "cell_type": "code",
   "execution_count": 67,
   "metadata": {},
   "outputs": [
    {
     "name": "stdout",
     "output_type": "stream",
     "text": [
      "PorterStemmer Stemmed Tokens ['frog', 'are', 'danc', 'and', 'dog', 'are', 'sing']\n",
      "LancasterStemmer Stemmed Tokens ['frog', 'ar', 'dant', 'and', 'dog', 'ar', 'sing']\n",
      "SnowballStemmer Stemmed Tokens ['frog', 'are', 'danc', 'and', 'dog', 'are', 'sing']\n"
     ]
    }
   ],
   "source": [
    "for stemmer in stemmers:\n",
    "    stemmed_tokens = [stemmer.stem(token) for token in tokens]\n",
    "    print(f\"{stemmer.__class__.__name__} Stemmed Tokens\",stemmed_tokens)"
   ]
  },
  {
   "cell_type": "markdown",
   "metadata": {},
   "source": [
    "### Lemmatisation avec nltk"
   ]
  },
  {
   "cell_type": "code",
   "execution_count": 68,
   "metadata": {},
   "outputs": [
    {
     "name": "stderr",
     "output_type": "stream",
     "text": [
      "[nltk_data] Downloading package wordnet to\n",
      "[nltk_data]     C:\\Users\\Pr\\AppData\\Roaming\\nltk_data...\n"
     ]
    },
    {
     "data": {
      "text/plain": [
       "True"
      ]
     },
     "execution_count": 68,
     "metadata": {},
     "output_type": "execute_result"
    }
   ],
   "source": [
    "from nltk.stem import WordNetLemmatizer\n",
    "from nltk.tokenize import word_tokenize\n",
    "nltk.download('wordnet')"
   ]
  },
  {
   "cell_type": "code",
   "execution_count": 71,
   "metadata": {},
   "outputs": [],
   "source": [
    "lemmatizer = WordNetLemmatizer()\n",
    "sentence = \"Boys are running and mosquitos are studying an mosquitos are death\"\n",
    "\n",
    "tokens = word_tokenize(sentence)\n",
    "lemmatized_tokens = [lemmatizer.lemmatize(token) for token in tokens]\n",
    "\n",
    "lemmatizer_sentence = \" \".join(lemmatized_tokens)"
   ]
  },
  {
   "cell_type": "code",
   "execution_count": 72,
   "metadata": {},
   "outputs": [
    {
     "name": "stdout",
     "output_type": "stream",
     "text": [
      "Original sentence:\n",
      " Boys are running and mosquitos are studying an mosquitos are death\n",
      "Lemmatized sentence:\n",
      " Boys are running and mosquito are studying an mosquito are death\n"
     ]
    }
   ],
   "source": [
    "print(\"Original sentence:\\n\", sentence)\n",
    "print(\"Lemmatized sentence:\\n\", lemmatizer_sentence)"
   ]
  },
  {
   "cell_type": "markdown",
   "metadata": {},
   "source": [
    "### APLLICATION"
   ]
  },
  {
   "cell_type": "code",
   "execution_count": 74,
   "metadata": {},
   "outputs": [
    {
     "ename": "SyntaxError",
     "evalue": "invalid syntax (54241951.py, line 8)",
     "output_type": "error",
     "traceback": [
      "\u001b[1;36m  Cell \u001b[1;32mIn[74], line 8\u001b[1;36m\u001b[0m\n\u001b[1;33m    import plotly.subplots import make_subplots\u001b[0m\n\u001b[1;37m                           ^\u001b[0m\n\u001b[1;31mSyntaxError\u001b[0m\u001b[1;31m:\u001b[0m invalid syntax\n"
     ]
    }
   ],
   "source": [
    "import numpy as np \n",
    "import pandas as pd\n",
    "import matplotlib.pyplot as plt\n",
    "import seaborn as sns\n",
    "import matplotlib.patches as mpatches\n",
    "import plotly.express as px \n",
    "import plotly.graph_objects as go \n",
    "import plotly.subplots import make_subplots"
   ]
  },
  {
   "cell_type": "code",
   "execution_count": 77,
   "metadata": {},
   "outputs": [
    {
     "name": "stdout",
     "output_type": "stream",
     "text": [
      "Collecting plotly\n",
      "  Using cached plotly-6.0.0-py3-none-any.whl.metadata (5.6 kB)\n",
      "Collecting narwhals>=1.15.1 (from plotly)\n",
      "  Using cached narwhals-1.30.0-py3-none-any.whl.metadata (11 kB)\n",
      "Requirement already satisfied: packaging in c:\\users\\pr\\appdata\\roaming\\python\\python311\\site-packages (from plotly) (24.2)\n",
      "Downloading plotly-6.0.0-py3-none-any.whl (14.8 MB)\n",
      "   ---------------------------------------- 0.0/14.8 MB ? eta -:--:--\n",
      "   ---------------------------------------- 0.0/14.8 MB ? eta -:--:--\n",
      "   ---------------------------------------- 0.0/14.8 MB ? eta -:--:--\n",
      "   ---------------------------------------- 0.0/14.8 MB ? eta -:--:--\n",
      "   ---------------------------------------- 0.0/14.8 MB ? eta -:--:--\n",
      "   ---------------------------------------- 0.0/14.8 MB ? eta -:--:--\n",
      "   ---------------------------------------- 0.0/14.8 MB ? eta -:--:--\n",
      "   ---------------------------------------- 0.0/14.8 MB ? eta -:--:--\n",
      "   ---------------------------------------- 0.0/14.8 MB ? eta -:--:--\n",
      "   ---------------------------------------- 0.0/14.8 MB ? eta -:--:--\n",
      "   ---------------------------------------- 0.0/14.8 MB ? eta -:--:--\n",
      "   ---------------------------------------- 0.0/14.8 MB ? eta -:--:--\n",
      "   ---------------------------------------- 0.0/14.8 MB ? eta -:--:--\n",
      "   ---------------------------------------- 0.0/14.8 MB ? eta -:--:--\n",
      "   ---------------------------------------- 0.0/14.8 MB ? eta -:--:--\n",
      "   ---------------------------------------- 0.0/14.8 MB ? eta -:--:--\n",
      "   ---------------------------------------- 0.0/14.8 MB ? eta -:--:--\n",
      "   ---------------------------------------- 0.0/14.8 MB ? eta -:--:--\n",
      "   ---------------------------------------- 0.0/14.8 MB ? eta -:--:--\n",
      "   ---------------------------------------- 0.0/14.8 MB ? eta -:--:--\n",
      "   ---------------------------------------- 0.0/14.8 MB ? eta -:--:--\n",
      "   ---------------------------------------- 0.0/14.8 MB ? eta -:--:--\n",
      "   ---------------------------------------- 0.0/14.8 MB ? eta -:--:--\n",
      "   ---------------------------------------- 0.0/14.8 MB ? eta -:--:--\n",
      "   ---------------------------------------- 0.0/14.8 MB ? eta -:--:--\n",
      "   ---------------------------------------- 0.0/14.8 MB ? eta -:--:--\n",
      "   ---------------------------------------- 0.0/14.8 MB ? eta -:--:--\n",
      "    --------------------------------------- 0.3/14.8 MB ? eta -:--:--\n",
      "    --------------------------------------- 0.3/14.8 MB ? eta -:--:--\n",
      "    --------------------------------------- 0.3/14.8 MB ? eta -:--:--\n",
      "    --------------------------------------- 0.3/14.8 MB ? eta -:--:--\n",
      "    --------------------------------------- 0.3/14.8 MB ? eta -:--:--\n",
      "    --------------------------------------- 0.3/14.8 MB ? eta -:--:--\n",
      "   - -------------------------------------- 0.5/14.8 MB 204.6 kB/s eta 0:01:10\n",
      "   - -------------------------------------- 0.5/14.8 MB 204.6 kB/s eta 0:01:10\n",
      "   - -------------------------------------- 0.5/14.8 MB 204.6 kB/s eta 0:01:10\n",
      "   - -------------------------------------- 0.5/14.8 MB 204.6 kB/s eta 0:01:10\n",
      "   - -------------------------------------- 0.5/14.8 MB 204.6 kB/s eta 0:01:10\n",
      "   - -------------------------------------- 0.5/14.8 MB 204.6 kB/s eta 0:01:10\n",
      "   - -------------------------------------- 0.5/14.8 MB 204.6 kB/s eta 0:01:10\n",
      "   - -------------------------------------- 0.5/14.8 MB 204.6 kB/s eta 0:01:10\n",
      "   - -------------------------------------- 0.5/14.8 MB 204.6 kB/s eta 0:01:10\n",
      "   - -------------------------------------- 0.5/14.8 MB 204.6 kB/s eta 0:01:10\n",
      "   - -------------------------------------- 0.5/14.8 MB 204.6 kB/s eta 0:01:10\n",
      "   - -------------------------------------- 0.5/14.8 MB 204.6 kB/s eta 0:01:10\n",
      "   - -------------------------------------- 0.5/14.8 MB 204.6 kB/s eta 0:01:10\n",
      "   -- ------------------------------------- 0.8/14.8 MB 131.1 kB/s eta 0:01:47\n",
      "   -- ------------------------------------- 0.8/14.8 MB 131.1 kB/s eta 0:01:47\n",
      "   -- ------------------------------------- 0.8/14.8 MB 131.1 kB/s eta 0:01:47\n",
      "   -- ------------------------------------- 0.8/14.8 MB 131.1 kB/s eta 0:01:47\n",
      "   -- ------------------------------------- 1.0/14.8 MB 162.9 kB/s eta 0:01:25\n",
      "   -- ------------------------------------- 1.0/14.8 MB 162.9 kB/s eta 0:01:25\n",
      "   -- ------------------------------------- 1.0/14.8 MB 162.9 kB/s eta 0:01:25\n",
      "   --- ------------------------------------ 1.3/14.8 MB 187.4 kB/s eta 0:01:12\n",
      "   --- ------------------------------------ 1.3/14.8 MB 187.4 kB/s eta 0:01:12\n",
      "   --- ------------------------------------ 1.3/14.8 MB 187.4 kB/s eta 0:01:12\n",
      "   --- ------------------------------------ 1.3/14.8 MB 187.4 kB/s eta 0:01:12\n",
      "   ---- ----------------------------------- 1.6/14.8 MB 204.1 kB/s eta 0:01:05\n",
      "   ---- ----------------------------------- 1.6/14.8 MB 204.1 kB/s eta 0:01:05\n",
      "   ---- ----------------------------------- 1.6/14.8 MB 204.1 kB/s eta 0:01:05\n",
      "   ---- ----------------------------------- 1.6/14.8 MB 204.1 kB/s eta 0:01:05\n",
      "   ---- ----------------------------------- 1.6/14.8 MB 204.1 kB/s eta 0:01:05\n",
      "   ---- ----------------------------------- 1.6/14.8 MB 204.1 kB/s eta 0:01:05\n",
      "   ---- ----------------------------------- 1.6/14.8 MB 204.1 kB/s eta 0:01:05\n",
      "   ---- ----------------------------------- 1.6/14.8 MB 204.1 kB/s eta 0:01:05\n",
      "   ---- ----------------------------------- 1.6/14.8 MB 204.1 kB/s eta 0:01:05\n",
      "   ---- ----------------------------------- 1.8/14.8 MB 189.2 kB/s eta 0:01:09\n",
      "   ---- ----------------------------------- 1.8/14.8 MB 189.2 kB/s eta 0:01:09\n",
      "   ---- ----------------------------------- 1.8/14.8 MB 189.2 kB/s eta 0:01:09\n",
      "   ---- ----------------------------------- 1.8/14.8 MB 189.2 kB/s eta 0:01:09\n",
      "   ---- ----------------------------------- 1.8/14.8 MB 189.2 kB/s eta 0:01:09\n",
      "   ---- ----------------------------------- 1.8/14.8 MB 189.2 kB/s eta 0:01:09\n",
      "   ---- ----------------------------------- 1.8/14.8 MB 189.2 kB/s eta 0:01:09\n",
      "   ---- ----------------------------------- 1.8/14.8 MB 189.2 kB/s eta 0:01:09\n",
      "   ---- ----------------------------------- 1.8/14.8 MB 189.2 kB/s eta 0:01:09\n",
      "   ---- ----------------------------------- 1.8/14.8 MB 189.2 kB/s eta 0:01:09\n",
      "   ---- ----------------------------------- 1.8/14.8 MB 189.2 kB/s eta 0:01:09\n",
      "   ---- ----------------------------------- 1.8/14.8 MB 189.2 kB/s eta 0:01:09\n",
      "   ---- ----------------------------------- 1.8/14.8 MB 189.2 kB/s eta 0:01:09\n",
      "   ---- ----------------------------------- 1.8/14.8 MB 189.2 kB/s eta 0:01:09\n",
      "   ---- ----------------------------------- 1.8/14.8 MB 189.2 kB/s eta 0:01:09\n",
      "   ---- ----------------------------------- 1.8/14.8 MB 189.2 kB/s eta 0:01:09\n",
      "   ---- ----------------------------------- 1.8/14.8 MB 189.2 kB/s eta 0:01:09\n",
      "   ---- ----------------------------------- 1.8/14.8 MB 189.2 kB/s eta 0:01:09\n",
      "   ---- ----------------------------------- 1.8/14.8 MB 189.2 kB/s eta 0:01:09\n",
      "   ---- ----------------------------------- 1.8/14.8 MB 189.2 kB/s eta 0:01:09\n",
      "   ---- ----------------------------------- 1.8/14.8 MB 189.2 kB/s eta 0:01:09\n",
      "   ---- ----------------------------------- 1.8/14.8 MB 189.2 kB/s eta 0:01:09\n",
      "   ---- ----------------------------------- 1.8/14.8 MB 189.2 kB/s eta 0:01:09\n",
      "   ---- ----------------------------------- 1.8/14.8 MB 189.2 kB/s eta 0:01:09\n",
      "   ---- ----------------------------------- 1.8/14.8 MB 189.2 kB/s eta 0:01:09\n",
      "   ---- ----------------------------------- 1.8/14.8 MB 189.2 kB/s eta 0:01:09\n",
      "   ---- ----------------------------------- 1.8/14.8 MB 189.2 kB/s eta 0:01:09\n",
      "   ---- ----------------------------------- 1.8/14.8 MB 189.2 kB/s eta 0:01:09\n",
      "   ---- ----------------------------------- 1.8/14.8 MB 189.2 kB/s eta 0:01:09\n",
      "   ---- ----------------------------------- 1.8/14.8 MB 189.2 kB/s eta 0:01:09\n",
      "   ---- ----------------------------------- 1.8/14.8 MB 189.2 kB/s eta 0:01:09\n",
      "   ---- ----------------------------------- 1.8/14.8 MB 189.2 kB/s eta 0:01:09\n",
      "   ---- ----------------------------------- 1.8/14.8 MB 189.2 kB/s eta 0:01:09\n",
      "   ---- ----------------------------------- 1.8/14.8 MB 189.2 kB/s eta 0:01:09\n",
      "   ---- ----------------------------------- 1.8/14.8 MB 189.2 kB/s eta 0:01:09\n",
      "   ---- ----------------------------------- 1.8/14.8 MB 189.2 kB/s eta 0:01:09\n",
      "   ---- ----------------------------------- 1.8/14.8 MB 189.2 kB/s eta 0:01:09\n",
      "   ---- ----------------------------------- 1.8/14.8 MB 189.2 kB/s eta 0:01:09\n",
      "   ---- ----------------------------------- 1.8/14.8 MB 189.2 kB/s eta 0:01:09\n",
      "   ---- ----------------------------------- 1.8/14.8 MB 189.2 kB/s eta 0:01:09\n",
      "   ---- ----------------------------------- 1.8/14.8 MB 189.2 kB/s eta 0:01:09\n",
      "   ---- ----------------------------------- 1.8/14.8 MB 189.2 kB/s eta 0:01:09\n",
      "   ---- ----------------------------------- 1.8/14.8 MB 189.2 kB/s eta 0:01:09\n",
      "   ---- ----------------------------------- 1.8/14.8 MB 189.2 kB/s eta 0:01:09\n",
      "   ---- ----------------------------------- 1.8/14.8 MB 189.2 kB/s eta 0:01:09\n",
      "   ---- ----------------------------------- 1.8/14.8 MB 189.2 kB/s eta 0:01:09\n",
      "   ---- ----------------------------------- 1.8/14.8 MB 189.2 kB/s eta 0:01:09\n",
      "   ---- ----------------------------------- 1.8/14.8 MB 189.2 kB/s eta 0:01:09\n",
      "   ---- ----------------------------------- 1.8/14.8 MB 189.2 kB/s eta 0:01:09\n",
      "   ---- ----------------------------------- 1.8/14.8 MB 189.2 kB/s eta 0:01:09\n",
      "   ---- ----------------------------------- 1.8/14.8 MB 189.2 kB/s eta 0:01:09\n",
      "   ---- ----------------------------------- 1.8/14.8 MB 189.2 kB/s eta 0:01:09\n",
      "   ---- ----------------------------------- 1.8/14.8 MB 189.2 kB/s eta 0:01:09\n",
      "   ---- ----------------------------------- 1.8/14.8 MB 189.2 kB/s eta 0:01:09\n",
      "   ---- ----------------------------------- 1.8/14.8 MB 189.2 kB/s eta 0:01:09\n",
      "   ---- ----------------------------------- 1.8/14.8 MB 189.2 kB/s eta 0:01:09\n",
      "   ----- ---------------------------------- 2.1/14.8 MB 90.8 kB/s eta 0:02:21\n",
      "   ----- ---------------------------------- 2.1/14.8 MB 90.8 kB/s eta 0:02:21\n",
      "   ----- ---------------------------------- 2.1/14.8 MB 90.8 kB/s eta 0:02:21\n",
      "   ----- ---------------------------------- 2.1/14.8 MB 90.8 kB/s eta 0:02:21\n",
      "   ----- ---------------------------------- 2.1/14.8 MB 90.8 kB/s eta 0:02:21\n",
      "   ----- ---------------------------------- 2.1/14.8 MB 90.8 kB/s eta 0:02:21\n",
      "   ----- ---------------------------------- 2.1/14.8 MB 90.8 kB/s eta 0:02:21\n",
      "   ----- ---------------------------------- 2.1/14.8 MB 90.8 kB/s eta 0:02:21\n",
      "   ----- ---------------------------------- 2.1/14.8 MB 90.8 kB/s eta 0:02:21\n",
      "   ----- ---------------------------------- 2.1/14.8 MB 90.8 kB/s eta 0:02:21\n",
      "   ----- ---------------------------------- 2.1/14.8 MB 90.8 kB/s eta 0:02:21\n",
      "   ----- ---------------------------------- 2.1/14.8 MB 90.8 kB/s eta 0:02:21\n",
      "   ----- ---------------------------------- 2.1/14.8 MB 90.8 kB/s eta 0:02:21\n",
      "   ----- ---------------------------------- 2.1/14.8 MB 90.8 kB/s eta 0:02:21\n",
      "   ----- ---------------------------------- 2.1/14.8 MB 90.8 kB/s eta 0:02:21\n",
      "   ----- ---------------------------------- 2.1/14.8 MB 90.8 kB/s eta 0:02:21\n",
      "   ----- ---------------------------------- 2.1/14.8 MB 90.8 kB/s eta 0:02:21\n",
      "   ----- ---------------------------------- 2.1/14.8 MB 90.8 kB/s eta 0:02:21\n",
      "   ----- ---------------------------------- 2.1/14.8 MB 90.8 kB/s eta 0:02:21\n",
      "   ----- ---------------------------------- 2.1/14.8 MB 90.8 kB/s eta 0:02:21\n",
      "   ----- ---------------------------------- 2.1/14.8 MB 90.8 kB/s eta 0:02:21\n",
      "   ----- ---------------------------------- 2.1/14.8 MB 90.8 kB/s eta 0:02:21\n",
      "   ----- ---------------------------------- 2.1/14.8 MB 90.8 kB/s eta 0:02:21\n",
      "   ----- ---------------------------------- 2.1/14.8 MB 90.8 kB/s eta 0:02:21\n",
      "   ----- ---------------------------------- 2.1/14.8 MB 90.8 kB/s eta 0:02:21\n",
      "   ----- ---------------------------------- 2.1/14.8 MB 90.8 kB/s eta 0:02:21\n",
      "   ----- ---------------------------------- 2.1/14.8 MB 90.8 kB/s eta 0:02:21\n",
      "   ----- ---------------------------------- 2.1/14.8 MB 90.8 kB/s eta 0:02:21\n",
      "   ----- ---------------------------------- 2.1/14.8 MB 90.8 kB/s eta 0:02:21\n",
      "   ----- ---------------------------------- 2.1/14.8 MB 90.8 kB/s eta 0:02:21\n",
      "   ----- ---------------------------------- 2.1/14.8 MB 90.8 kB/s eta 0:02:21\n",
      "   ----- ---------------------------------- 2.1/14.8 MB 90.8 kB/s eta 0:02:21\n",
      "   ----- ---------------------------------- 2.1/14.8 MB 90.8 kB/s eta 0:02:21\n",
      "   ----- ---------------------------------- 2.1/14.8 MB 90.8 kB/s eta 0:02:21\n",
      "   ----- ---------------------------------- 2.1/14.8 MB 90.8 kB/s eta 0:02:21\n",
      "   ----- ---------------------------------- 2.1/14.8 MB 90.8 kB/s eta 0:02:21\n",
      "   ----- ---------------------------------- 2.1/14.8 MB 90.8 kB/s eta 0:02:21\n",
      "   ----- ---------------------------------- 2.1/14.8 MB 90.8 kB/s eta 0:02:21\n",
      "   ----- ---------------------------------- 2.1/14.8 MB 90.8 kB/s eta 0:02:21\n",
      "   ----- ---------------------------------- 2.1/14.8 MB 90.8 kB/s eta 0:02:21\n",
      "   ----- ---------------------------------- 2.1/14.8 MB 90.8 kB/s eta 0:02:21\n",
      "   ----- ---------------------------------- 2.1/14.8 MB 90.8 kB/s eta 0:02:21\n",
      "   ----- ---------------------------------- 2.1/14.8 MB 90.8 kB/s eta 0:02:21\n",
      "   ----- ---------------------------------- 2.1/14.8 MB 90.8 kB/s eta 0:02:21\n",
      "   ----- ---------------------------------- 2.1/14.8 MB 90.8 kB/s eta 0:02:21\n",
      "   ----- ---------------------------------- 2.1/14.8 MB 90.8 kB/s eta 0:02:21\n",
      "   ----- ---------------------------------- 2.1/14.8 MB 90.8 kB/s eta 0:02:21\n",
      "   ----- ---------------------------------- 2.1/14.8 MB 90.8 kB/s eta 0:02:21\n",
      "   ----- ---------------------------------- 2.1/14.8 MB 90.8 kB/s eta 0:02:21\n",
      "   ----- ---------------------------------- 2.1/14.8 MB 90.8 kB/s eta 0:02:21\n",
      "   ----- ---------------------------------- 2.1/14.8 MB 90.8 kB/s eta 0:02:21\n",
      "   ----- ---------------------------------- 2.1/14.8 MB 90.8 kB/s eta 0:02:21\n",
      "   ----- ---------------------------------- 2.1/14.8 MB 90.8 kB/s eta 0:02:21\n",
      "   ----- ---------------------------------- 2.1/14.8 MB 90.8 kB/s eta 0:02:21\n",
      "   ----- ---------------------------------- 2.1/14.8 MB 90.8 kB/s eta 0:02:21\n",
      "   ----- ---------------------------------- 2.1/14.8 MB 90.8 kB/s eta 0:02:21\n",
      "   ----- ---------------------------------- 2.1/14.8 MB 90.8 kB/s eta 0:02:21\n",
      "   ----- ---------------------------------- 2.1/14.8 MB 90.8 kB/s eta 0:02:21\n",
      "   ----- ---------------------------------- 2.1/14.8 MB 90.8 kB/s eta 0:02:21\n",
      "   ----- ---------------------------------- 2.1/14.8 MB 90.8 kB/s eta 0:02:21\n",
      "   ----- ---------------------------------- 2.1/14.8 MB 90.8 kB/s eta 0:02:21\n",
      "   ----- ---------------------------------- 2.1/14.8 MB 90.8 kB/s eta 0:02:21\n",
      "   ----- ---------------------------------- 2.1/14.8 MB 90.8 kB/s eta 0:02:21\n",
      "   ----- ---------------------------------- 2.1/14.8 MB 90.8 kB/s eta 0:02:21\n",
      "   ----- ---------------------------------- 2.1/14.8 MB 90.8 kB/s eta 0:02:21\n",
      "   ----- ---------------------------------- 2.1/14.8 MB 90.8 kB/s eta 0:02:21\n",
      "   ----- ---------------------------------- 2.1/14.8 MB 90.8 kB/s eta 0:02:21\n",
      "   ----- ---------------------------------- 2.1/14.8 MB 90.8 kB/s eta 0:02:21\n",
      "   ----- ---------------------------------- 2.1/14.8 MB 90.8 kB/s eta 0:02:21\n",
      "   ----- ---------------------------------- 2.1/14.8 MB 90.8 kB/s eta 0:02:21\n",
      "   ----- ---------------------------------- 2.1/14.8 MB 90.8 kB/s eta 0:02:21\n",
      "   ----- ---------------------------------- 2.1/14.8 MB 90.8 kB/s eta 0:02:21\n",
      "   ----- ---------------------------------- 2.1/14.8 MB 90.8 kB/s eta 0:02:21\n",
      "   ----- ---------------------------------- 2.1/14.8 MB 90.8 kB/s eta 0:02:21\n",
      "   ----- ---------------------------------- 2.1/14.8 MB 90.8 kB/s eta 0:02:21\n",
      "   ----- ---------------------------------- 2.1/14.8 MB 90.8 kB/s eta 0:02:21\n",
      "   ----- ---------------------------------- 2.1/14.8 MB 90.8 kB/s eta 0:02:21\n",
      "   ----- ---------------------------------- 2.1/14.8 MB 90.8 kB/s eta 0:02:21\n",
      "   ----- ---------------------------------- 2.1/14.8 MB 90.8 kB/s eta 0:02:21\n",
      "   ----- ---------------------------------- 2.1/14.8 MB 90.8 kB/s eta 0:02:21\n",
      "   ----- ---------------------------------- 2.1/14.8 MB 90.8 kB/s eta 0:02:21\n",
      "   ----- ---------------------------------- 2.1/14.8 MB 90.8 kB/s eta 0:02:21\n",
      "   ----- ---------------------------------- 2.1/14.8 MB 90.8 kB/s eta 0:02:21\n",
      "   ----- ---------------------------------- 2.1/14.8 MB 90.8 kB/s eta 0:02:21\n",
      "   ----- ---------------------------------- 2.1/14.8 MB 90.8 kB/s eta 0:02:21\n",
      "   ----- ---------------------------------- 2.1/14.8 MB 90.8 kB/s eta 0:02:21\n",
      "   ----- ---------------------------------- 2.1/14.8 MB 90.8 kB/s eta 0:02:21\n",
      "   ----- ---------------------------------- 2.1/14.8 MB 90.8 kB/s eta 0:02:21\n",
      "   ----- ---------------------------------- 2.1/14.8 MB 90.8 kB/s eta 0:02:21\n",
      "   ----- ---------------------------------- 2.1/14.8 MB 90.8 kB/s eta 0:02:21\n",
      "   ----- ---------------------------------- 2.1/14.8 MB 90.8 kB/s eta 0:02:21\n",
      "   ----- ---------------------------------- 2.1/14.8 MB 90.8 kB/s eta 0:02:21\n",
      "   ----- ---------------------------------- 2.1/14.8 MB 90.8 kB/s eta 0:02:21\n",
      "   ----- ---------------------------------- 2.1/14.8 MB 90.8 kB/s eta 0:02:21\n",
      "   ----- ---------------------------------- 2.1/14.8 MB 90.8 kB/s eta 0:02:21\n",
      "   ----- ---------------------------------- 2.1/14.8 MB 90.8 kB/s eta 0:02:21\n",
      "   ----- ---------------------------------- 2.1/14.8 MB 90.8 kB/s eta 0:02:21\n",
      "   ----- ---------------------------------- 2.1/14.8 MB 90.8 kB/s eta 0:02:21\n",
      "   ----- ---------------------------------- 2.1/14.8 MB 90.8 kB/s eta 0:02:21\n",
      "   ----- ---------------------------------- 2.1/14.8 MB 90.8 kB/s eta 0:02:21\n",
      "   ----- ---------------------------------- 2.1/14.8 MB 90.8 kB/s eta 0:02:21\n",
      "   ----- ---------------------------------- 2.1/14.8 MB 90.8 kB/s eta 0:02:21\n",
      "   ----- ---------------------------------- 2.1/14.8 MB 90.8 kB/s eta 0:02:21\n",
      "   ----- ---------------------------------- 2.1/14.8 MB 90.8 kB/s eta 0:02:21\n",
      "   ----- ---------------------------------- 2.1/14.8 MB 90.8 kB/s eta 0:02:21\n",
      "   ----- ---------------------------------- 2.1/14.8 MB 90.8 kB/s eta 0:02:21\n",
      "   ----- ---------------------------------- 2.1/14.8 MB 90.8 kB/s eta 0:02:21\n",
      "   ----- ---------------------------------- 2.1/14.8 MB 90.8 kB/s eta 0:02:21\n",
      "   ----- ---------------------------------- 2.1/14.8 MB 90.8 kB/s eta 0:02:21\n",
      "   ----- ---------------------------------- 2.1/14.8 MB 90.8 kB/s eta 0:02:21\n",
      "   ----- ---------------------------------- 2.1/14.8 MB 90.8 kB/s eta 0:02:21\n",
      "   ----- ---------------------------------- 2.1/14.8 MB 90.8 kB/s eta 0:02:21\n",
      "   ----- ---------------------------------- 2.1/14.8 MB 90.8 kB/s eta 0:02:21\n",
      "   ----- ---------------------------------- 2.1/14.8 MB 90.8 kB/s eta 0:02:21\n",
      "   ----- ---------------------------------- 2.1/14.8 MB 90.8 kB/s eta 0:02:21\n",
      "   ----- ---------------------------------- 2.1/14.8 MB 90.8 kB/s eta 0:02:21\n",
      "   ----- ---------------------------------- 2.1/14.8 MB 90.8 kB/s eta 0:02:21\n",
      "   ----- ---------------------------------- 2.1/14.8 MB 90.8 kB/s eta 0:02:21\n",
      "   ----- ---------------------------------- 2.1/14.8 MB 90.8 kB/s eta 0:02:21\n",
      "   ----- ---------------------------------- 2.1/14.8 MB 90.8 kB/s eta 0:02:21\n",
      "   ----- ---------------------------------- 2.1/14.8 MB 90.8 kB/s eta 0:02:21\n",
      "   ----- ---------------------------------- 2.1/14.8 MB 90.8 kB/s eta 0:02:21\n",
      "   ----- ---------------------------------- 2.1/14.8 MB 90.8 kB/s eta 0:02:21\n",
      "   ----- ---------------------------------- 2.1/14.8 MB 90.8 kB/s eta 0:02:21\n",
      "   ----- ---------------------------------- 2.1/14.8 MB 90.8 kB/s eta 0:02:21\n",
      "   ----- ---------------------------------- 2.1/14.8 MB 90.8 kB/s eta 0:02:21\n",
      "   ----- ---------------------------------- 2.1/14.8 MB 90.8 kB/s eta 0:02:21\n",
      "   ----- ---------------------------------- 2.1/14.8 MB 90.8 kB/s eta 0:02:21\n",
      "   ----- ---------------------------------- 2.1/14.8 MB 90.8 kB/s eta 0:02:21\n",
      "   ----- ---------------------------------- 2.1/14.8 MB 90.8 kB/s eta 0:02:21\n",
      "   ----- ---------------------------------- 2.1/14.8 MB 90.8 kB/s eta 0:02:21\n",
      "   ------ --------------------------------- 2.4/14.8 MB 9.5 kB/s eta 0:21:46\n",
      "   ------ --------------------------------- 2.4/14.8 MB 9.5 kB/s eta 0:21:46\n",
      "   ------ --------------------------------- 2.4/14.8 MB 9.5 kB/s eta 0:21:46\n",
      "   ------ --------------------------------- 2.4/14.8 MB 9.5 kB/s eta 0:21:46\n",
      "   ------ --------------------------------- 2.4/14.8 MB 9.5 kB/s eta 0:21:46\n",
      "   ------ --------------------------------- 2.4/14.8 MB 9.5 kB/s eta 0:21:46\n",
      "   ------ --------------------------------- 2.4/14.8 MB 9.5 kB/s eta 0:21:46\n",
      "   ------ --------------------------------- 2.4/14.8 MB 9.5 kB/s eta 0:21:46\n",
      "   ------ --------------------------------- 2.4/14.8 MB 9.5 kB/s eta 0:21:46\n",
      "   ------ --------------------------------- 2.4/14.8 MB 9.5 kB/s eta 0:21:46\n",
      "   ------ --------------------------------- 2.4/14.8 MB 9.5 kB/s eta 0:21:46\n",
      "   ------ --------------------------------- 2.4/14.8 MB 9.5 kB/s eta 0:21:46\n",
      "   ------ --------------------------------- 2.4/14.8 MB 9.5 kB/s eta 0:21:46\n",
      "   ------ --------------------------------- 2.4/14.8 MB 9.5 kB/s eta 0:21:46\n",
      "   ------ --------------------------------- 2.4/14.8 MB 9.5 kB/s eta 0:21:46\n",
      "   ------- -------------------------------- 2.6/14.8 MB 87.8 kB/s eta 0:02:19\n",
      "   ------- -------------------------------- 2.6/14.8 MB 87.8 kB/s eta 0:02:19\n",
      "   ------- -------------------------------- 2.6/14.8 MB 87.8 kB/s eta 0:02:19\n",
      "   ------- -------------------------------- 2.6/14.8 MB 87.8 kB/s eta 0:02:19\n",
      "   ------- -------------------------------- 2.6/14.8 MB 87.8 kB/s eta 0:02:19\n",
      "   ------- -------------------------------- 2.6/14.8 MB 87.8 kB/s eta 0:02:19\n",
      "   ------- -------------------------------- 2.6/14.8 MB 87.8 kB/s eta 0:02:19\n",
      "   ------- -------------------------------- 2.6/14.8 MB 87.8 kB/s eta 0:02:19\n",
      "   ------- -------------------------------- 2.6/14.8 MB 87.8 kB/s eta 0:02:19\n",
      "   ------- -------------------------------- 2.6/14.8 MB 87.8 kB/s eta 0:02:19\n",
      "   ------- -------------------------------- 2.6/14.8 MB 87.8 kB/s eta 0:02:19\n",
      "   ------- -------------------------------- 2.6/14.8 MB 87.8 kB/s eta 0:02:19\n",
      "   ------- -------------------------------- 2.6/14.8 MB 87.8 kB/s eta 0:02:19\n",
      "   ------- -------------------------------- 2.6/14.8 MB 87.8 kB/s eta 0:02:19\n",
      "   ------- -------------------------------- 2.6/14.8 MB 87.8 kB/s eta 0:02:19\n",
      "   ------- -------------------------------- 2.6/14.8 MB 87.8 kB/s eta 0:02:19\n",
      "   ------- -------------------------------- 2.6/14.8 MB 87.8 kB/s eta 0:02:19\n",
      "   ------- -------------------------------- 2.6/14.8 MB 87.8 kB/s eta 0:02:19\n",
      "   ------- -------------------------------- 2.6/14.8 MB 87.8 kB/s eta 0:02:19\n",
      "   ------- -------------------------------- 2.6/14.8 MB 87.8 kB/s eta 0:02:19\n",
      "   ------- -------------------------------- 2.6/14.8 MB 87.8 kB/s eta 0:02:19\n",
      "   ------- -------------------------------- 2.6/14.8 MB 87.8 kB/s eta 0:02:19\n",
      "   ------- -------------------------------- 2.6/14.8 MB 87.8 kB/s eta 0:02:19\n",
      "   ------- -------------------------------- 2.6/14.8 MB 87.8 kB/s eta 0:02:19\n",
      "   ------- -------------------------------- 2.6/14.8 MB 87.8 kB/s eta 0:02:19\n",
      "   ------- -------------------------------- 2.6/14.8 MB 87.8 kB/s eta 0:02:19\n",
      "   ------- -------------------------------- 2.6/14.8 MB 87.8 kB/s eta 0:02:19\n",
      "   ------- -------------------------------- 2.6/14.8 MB 87.8 kB/s eta 0:02:19\n",
      "   ------- -------------------------------- 2.6/14.8 MB 87.8 kB/s eta 0:02:19\n",
      "   ------- -------------------------------- 2.6/14.8 MB 87.8 kB/s eta 0:02:19\n",
      "   ------- -------------------------------- 2.6/14.8 MB 87.8 kB/s eta 0:02:19\n",
      "   ------- -------------------------------- 2.6/14.8 MB 87.8 kB/s eta 0:02:19\n",
      "   ------- -------------------------------- 2.6/14.8 MB 87.8 kB/s eta 0:02:19\n",
      "   ------- -------------------------------- 2.6/14.8 MB 87.8 kB/s eta 0:02:19\n",
      "   ------- -------------------------------- 2.6/14.8 MB 87.8 kB/s eta 0:02:19\n",
      "   ------- -------------------------------- 2.6/14.8 MB 87.8 kB/s eta 0:02:19\n",
      "   ------- -------------------------------- 2.6/14.8 MB 87.8 kB/s eta 0:02:19\n",
      "   ------- -------------------------------- 2.6/14.8 MB 87.8 kB/s eta 0:02:19\n",
      "   ------- -------------------------------- 2.6/14.8 MB 87.8 kB/s eta 0:02:19\n",
      "   ------- -------------------------------- 2.6/14.8 MB 87.8 kB/s eta 0:02:19\n",
      "   ------- -------------------------------- 2.6/14.8 MB 87.8 kB/s eta 0:02:19\n",
      "   ------- -------------------------------- 2.6/14.8 MB 87.8 kB/s eta 0:02:19\n",
      "   ------- -------------------------------- 2.6/14.8 MB 87.8 kB/s eta 0:02:19\n",
      "   ------- -------------------------------- 2.6/14.8 MB 87.8 kB/s eta 0:02:19\n",
      "   ------- -------------------------------- 2.6/14.8 MB 87.8 kB/s eta 0:02:19\n",
      "   ------- -------------------------------- 2.6/14.8 MB 87.8 kB/s eta 0:02:19\n",
      "   ------- -------------------------------- 2.6/14.8 MB 87.8 kB/s eta 0:02:19\n",
      "   ------- -------------------------------- 2.6/14.8 MB 87.8 kB/s eta 0:02:19\n",
      "   ------- -------------------------------- 2.6/14.8 MB 87.8 kB/s eta 0:02:19\n",
      "   ------- -------------------------------- 2.6/14.8 MB 87.8 kB/s eta 0:02:19\n",
      "   ------- -------------------------------- 2.6/14.8 MB 87.8 kB/s eta 0:02:19\n",
      "   ------- -------------------------------- 2.6/14.8 MB 87.8 kB/s eta 0:02:19\n",
      "   ------- -------------------------------- 2.6/14.8 MB 87.8 kB/s eta 0:02:19\n",
      "   ------- -------------------------------- 2.6/14.8 MB 87.8 kB/s eta 0:02:19\n",
      "   ------- -------------------------------- 2.6/14.8 MB 87.8 kB/s eta 0:02:19\n",
      "   ------- -------------------------------- 2.6/14.8 MB 87.8 kB/s eta 0:02:19\n",
      "   ------- -------------------------------- 2.6/14.8 MB 87.8 kB/s eta 0:02:19\n",
      "   ------- -------------------------------- 2.6/14.8 MB 87.8 kB/s eta 0:02:19\n",
      "   ------- -------------------------------- 2.6/14.8 MB 87.8 kB/s eta 0:02:19\n",
      "   ------- -------------------------------- 2.6/14.8 MB 87.8 kB/s eta 0:02:19\n",
      "   ------- -------------------------------- 2.6/14.8 MB 87.8 kB/s eta 0:02:19\n",
      "   ------- -------------------------------- 2.6/14.8 MB 87.8 kB/s eta 0:02:19\n",
      "   ------- -------------------------------- 2.6/14.8 MB 87.8 kB/s eta 0:02:19\n",
      "   ------- -------------------------------- 2.6/14.8 MB 87.8 kB/s eta 0:02:19\n",
      "   ------- -------------------------------- 2.6/14.8 MB 87.8 kB/s eta 0:02:19\n",
      "   ------- -------------------------------- 2.6/14.8 MB 87.8 kB/s eta 0:02:19\n",
      "   ------- -------------------------------- 2.6/14.8 MB 87.8 kB/s eta 0:02:19\n",
      "   ------- -------------------------------- 2.6/14.8 MB 87.8 kB/s eta 0:02:19\n",
      "   ------- -------------------------------- 2.6/14.8 MB 87.8 kB/s eta 0:02:19\n",
      "   ------- -------------------------------- 2.6/14.8 MB 87.8 kB/s eta 0:02:19\n",
      "   ------- -------------------------------- 2.6/14.8 MB 87.8 kB/s eta 0:02:19\n",
      "   ------- -------------------------------- 2.6/14.8 MB 87.8 kB/s eta 0:02:19\n",
      "   ------- -------------------------------- 2.6/14.8 MB 87.8 kB/s eta 0:02:19\n",
      "   ------- -------------------------------- 2.6/14.8 MB 87.8 kB/s eta 0:02:19\n",
      "   ------- -------------------------------- 2.6/14.8 MB 87.8 kB/s eta 0:02:19\n",
      "   ------- -------------------------------- 2.6/14.8 MB 87.8 kB/s eta 0:02:19\n",
      "   ------- -------------------------------- 2.6/14.8 MB 87.8 kB/s eta 0:02:19\n",
      "   ------- -------------------------------- 2.6/14.8 MB 87.8 kB/s eta 0:02:19\n",
      "   ------- -------------------------------- 2.6/14.8 MB 87.8 kB/s eta 0:02:19\n",
      "   ------- -------------------------------- 2.6/14.8 MB 87.8 kB/s eta 0:02:19\n",
      "   ------- -------------------------------- 2.6/14.8 MB 87.8 kB/s eta 0:02:19\n",
      "   ------- -------------------------------- 2.6/14.8 MB 87.8 kB/s eta 0:02:19\n",
      "   ------- -------------------------------- 2.6/14.8 MB 87.8 kB/s eta 0:02:19\n",
      "   ------- -------------------------------- 2.6/14.8 MB 87.8 kB/s eta 0:02:19\n",
      "   ------- -------------------------------- 2.6/14.8 MB 87.8 kB/s eta 0:02:19\n",
      "   ------- -------------------------------- 2.6/14.8 MB 87.8 kB/s eta 0:02:19\n",
      "   ------- -------------------------------- 2.6/14.8 MB 87.8 kB/s eta 0:02:19\n",
      "   ------- -------------------------------- 2.6/14.8 MB 87.8 kB/s eta 0:02:19\n",
      "   ------- -------------------------------- 2.6/14.8 MB 87.8 kB/s eta 0:02:19\n",
      "   ------- -------------------------------- 2.6/14.8 MB 87.8 kB/s eta 0:02:19\n",
      "   ------- -------------------------------- 2.6/14.8 MB 87.8 kB/s eta 0:02:19\n",
      "   ------- -------------------------------- 2.6/14.8 MB 87.8 kB/s eta 0:02:19\n",
      "   ------- -------------------------------- 2.6/14.8 MB 87.8 kB/s eta 0:02:19\n",
      "   ------- -------------------------------- 2.6/14.8 MB 87.8 kB/s eta 0:02:19\n",
      "   ------- -------------------------------- 2.6/14.8 MB 87.8 kB/s eta 0:02:19\n",
      "   ------- -------------------------------- 2.6/14.8 MB 87.8 kB/s eta 0:02:19\n",
      "   ------- -------------------------------- 2.6/14.8 MB 87.8 kB/s eta 0:02:19\n",
      "   ------- -------------------------------- 2.6/14.8 MB 87.8 kB/s eta 0:02:19\n",
      "   ------- -------------------------------- 2.6/14.8 MB 87.8 kB/s eta 0:02:19\n",
      "   ------- -------------------------------- 2.6/14.8 MB 87.8 kB/s eta 0:02:19\n",
      "   ------- -------------------------------- 2.6/14.8 MB 87.8 kB/s eta 0:02:19\n",
      "   ------- -------------------------------- 2.6/14.8 MB 87.8 kB/s eta 0:02:19\n",
      "   ------- -------------------------------- 2.6/14.8 MB 87.8 kB/s eta 0:02:19\n",
      "   ------- -------------------------------- 2.6/14.8 MB 87.8 kB/s eta 0:02:19\n",
      "   ------- -------------------------------- 2.6/14.8 MB 87.8 kB/s eta 0:02:19\n",
      "   ------- -------------------------------- 2.6/14.8 MB 87.8 kB/s eta 0:02:19\n",
      "   ------- -------------------------------- 2.6/14.8 MB 87.8 kB/s eta 0:02:19\n",
      "   ------- -------------------------------- 2.6/14.8 MB 87.8 kB/s eta 0:02:19\n",
      "   ------- -------------------------------- 2.6/14.8 MB 87.8 kB/s eta 0:02:19\n",
      "   ------- -------------------------------- 2.6/14.8 MB 87.8 kB/s eta 0:02:19\n",
      "   ------- -------------------------------- 2.6/14.8 MB 87.8 kB/s eta 0:02:19\n",
      "   ------- -------------------------------- 2.6/14.8 MB 87.8 kB/s eta 0:02:19\n",
      "   ------- -------------------------------- 2.6/14.8 MB 87.8 kB/s eta 0:02:19\n",
      "   ------- -------------------------------- 2.6/14.8 MB 87.8 kB/s eta 0:02:19\n",
      "   ------- -------------------------------- 2.6/14.8 MB 87.8 kB/s eta 0:02:19\n",
      "   ------- -------------------------------- 2.6/14.8 MB 87.8 kB/s eta 0:02:19\n",
      "   ------- -------------------------------- 2.6/14.8 MB 87.8 kB/s eta 0:02:19\n",
      "   ------- -------------------------------- 2.6/14.8 MB 87.8 kB/s eta 0:02:19\n",
      "   ------- -------------------------------- 2.6/14.8 MB 87.8 kB/s eta 0:02:19\n",
      "   ------- -------------------------------- 2.6/14.8 MB 87.8 kB/s eta 0:02:19\n",
      "   ------- -------------------------------- 2.6/14.8 MB 87.8 kB/s eta 0:02:19\n",
      "   ------- -------------------------------- 2.6/14.8 MB 87.8 kB/s eta 0:02:19\n",
      "   ------- -------------------------------- 2.6/14.8 MB 87.8 kB/s eta 0:02:19\n",
      "   ------- -------------------------------- 2.6/14.8 MB 87.8 kB/s eta 0:02:19\n",
      "   ------- -------------------------------- 2.6/14.8 MB 87.8 kB/s eta 0:02:19\n",
      "   ------- -------------------------------- 2.6/14.8 MB 87.8 kB/s eta 0:02:19\n",
      "   ------- -------------------------------- 2.6/14.8 MB 87.8 kB/s eta 0:02:19\n",
      "   ------- -------------------------------- 2.6/14.8 MB 87.8 kB/s eta 0:02:19\n",
      "   ------- -------------------------------- 2.6/14.8 MB 87.8 kB/s eta 0:02:19\n",
      "   ------- -------------------------------- 2.6/14.8 MB 87.8 kB/s eta 0:02:19\n",
      "   ------- -------------------------------- 2.6/14.8 MB 87.8 kB/s eta 0:02:19\n",
      "   ------- -------------------------------- 2.6/14.8 MB 87.8 kB/s eta 0:02:19\n",
      "   ------- -------------------------------- 2.6/14.8 MB 87.8 kB/s eta 0:02:19\n",
      "   ------- -------------------------------- 2.6/14.8 MB 87.8 kB/s eta 0:02:19\n",
      "   ------- -------------------------------- 2.6/14.8 MB 87.8 kB/s eta 0:02:19\n",
      "   ------- -------------------------------- 2.6/14.8 MB 87.8 kB/s eta 0:02:19\n",
      "   ------- -------------------------------- 2.6/14.8 MB 87.8 kB/s eta 0:02:19\n",
      "   ------- -------------------------------- 2.6/14.8 MB 87.8 kB/s eta 0:02:19\n",
      "   ------- -------------------------------- 2.6/14.8 MB 87.8 kB/s eta 0:02:19\n",
      "   ------- -------------------------------- 2.6/14.8 MB 87.8 kB/s eta 0:02:19\n",
      "   ------- -------------------------------- 2.6/14.8 MB 87.8 kB/s eta 0:02:19\n",
      "   ------- -------------------------------- 2.6/14.8 MB 87.8 kB/s eta 0:02:19\n",
      "   ------- -------------------------------- 2.6/14.8 MB 87.8 kB/s eta 0:02:19\n",
      "   ------- -------------------------------- 2.6/14.8 MB 87.8 kB/s eta 0:02:19\n",
      "   ------- -------------------------------- 2.6/14.8 MB 87.8 kB/s eta 0:02:19\n",
      "   ------- -------------------------------- 2.6/14.8 MB 87.8 kB/s eta 0:02:19\n",
      "   ------- -------------------------------- 2.6/14.8 MB 87.8 kB/s eta 0:02:19\n",
      "   ------- -------------------------------- 2.6/14.8 MB 87.8 kB/s eta 0:02:19\n",
      "   ------- -------------------------------- 2.6/14.8 MB 87.8 kB/s eta 0:02:19\n",
      "   ------- -------------------------------- 2.6/14.8 MB 87.8 kB/s eta 0:02:19\n",
      "   ------- -------------------------------- 2.6/14.8 MB 87.8 kB/s eta 0:02:19\n",
      "   ------- -------------------------------- 2.6/14.8 MB 87.8 kB/s eta 0:02:19\n",
      "   ------- -------------------------------- 2.6/14.8 MB 87.8 kB/s eta 0:02:19\n",
      "   ------- -------------------------------- 2.6/14.8 MB 87.8 kB/s eta 0:02:19\n",
      "   ------- -------------------------------- 2.6/14.8 MB 87.8 kB/s eta 0:02:19\n",
      "   ------- -------------------------------- 2.6/14.8 MB 87.8 kB/s eta 0:02:19\n",
      "   ------- -------------------------------- 2.6/14.8 MB 87.8 kB/s eta 0:02:19\n",
      "   ------- -------------------------------- 2.6/14.8 MB 87.8 kB/s eta 0:02:19\n",
      "   ------- -------------------------------- 2.6/14.8 MB 87.8 kB/s eta 0:02:19\n",
      "   ------- -------------------------------- 2.6/14.8 MB 87.8 kB/s eta 0:02:19\n",
      "   ------- -------------------------------- 2.6/14.8 MB 87.8 kB/s eta 0:02:19\n",
      "   ------- -------------------------------- 2.6/14.8 MB 87.8 kB/s eta 0:02:19\n",
      "   ------- -------------------------------- 2.6/14.8 MB 87.8 kB/s eta 0:02:19\n",
      "   ------- -------------------------------- 2.6/14.8 MB 87.8 kB/s eta 0:02:19\n",
      "   ------- -------------------------------- 2.6/14.8 MB 87.8 kB/s eta 0:02:19\n",
      "   ------- -------------------------------- 2.6/14.8 MB 87.8 kB/s eta 0:02:19\n",
      "   ------- -------------------------------- 2.6/14.8 MB 87.8 kB/s eta 0:02:19\n",
      "   ------- -------------------------------- 2.6/14.8 MB 87.8 kB/s eta 0:02:19\n",
      "   ------- -------------------------------- 2.6/14.8 MB 87.8 kB/s eta 0:02:19\n",
      "   ------- -------------------------------- 2.6/14.8 MB 87.8 kB/s eta 0:02:19\n",
      "   ------- -------------------------------- 2.6/14.8 MB 87.8 kB/s eta 0:02:19\n",
      "   ------- -------------------------------- 2.6/14.8 MB 87.8 kB/s eta 0:02:19\n",
      "   ------- -------------------------------- 2.6/14.8 MB 87.8 kB/s eta 0:02:19\n",
      "   ------- -------------------------------- 2.6/14.8 MB 87.8 kB/s eta 0:02:19\n",
      "   ------- -------------------------------- 2.6/14.8 MB 87.8 kB/s eta 0:02:19\n",
      "   ------- -------------------------------- 2.6/14.8 MB 87.8 kB/s eta 0:02:19\n",
      "   ------- -------------------------------- 2.6/14.8 MB 87.8 kB/s eta 0:02:19\n",
      "   ------- -------------------------------- 2.6/14.8 MB 87.8 kB/s eta 0:02:19\n",
      "   ------- -------------------------------- 2.6/14.8 MB 87.8 kB/s eta 0:02:19\n",
      "   ------- -------------------------------- 2.6/14.8 MB 87.8 kB/s eta 0:02:19\n",
      "   ------- -------------------------------- 2.6/14.8 MB 87.8 kB/s eta 0:02:19\n",
      "   ------- -------------------------------- 2.6/14.8 MB 87.8 kB/s eta 0:02:19\n",
      "   ------- -------------------------------- 2.6/14.8 MB 87.8 kB/s eta 0:02:19\n",
      "   ------- -------------------------------- 2.6/14.8 MB 87.8 kB/s eta 0:02:19\n",
      "   ------- -------------------------------- 2.6/14.8 MB 87.8 kB/s eta 0:02:19\n",
      "   ------- -------------------------------- 2.6/14.8 MB 87.8 kB/s eta 0:02:19\n",
      "   ------- -------------------------------- 2.6/14.8 MB 87.8 kB/s eta 0:02:19\n",
      "   ------- -------------------------------- 2.6/14.8 MB 87.8 kB/s eta 0:02:19\n",
      "   ------- -------------------------------- 2.6/14.8 MB 87.8 kB/s eta 0:02:19\n",
      "   ------- -------------------------------- 2.6/14.8 MB 87.8 kB/s eta 0:02:19\n",
      "   ------- -------------------------------- 2.6/14.8 MB 87.8 kB/s eta 0:02:19\n",
      "   ------- -------------------------------- 2.6/14.8 MB 87.8 kB/s eta 0:02:19\n",
      "   ------- -------------------------------- 2.6/14.8 MB 87.8 kB/s eta 0:02:19\n",
      "   ------- -------------------------------- 2.6/14.8 MB 87.8 kB/s eta 0:02:19\n",
      "   ------- -------------------------------- 2.6/14.8 MB 87.8 kB/s eta 0:02:19\n",
      "   ------- -------------------------------- 2.6/14.8 MB 87.8 kB/s eta 0:02:19\n",
      "   ------- -------------------------------- 2.6/14.8 MB 87.8 kB/s eta 0:02:19\n",
      "   ------- -------------------------------- 2.6/14.8 MB 87.8 kB/s eta 0:02:19\n",
      "   ------- -------------------------------- 2.6/14.8 MB 87.8 kB/s eta 0:02:19\n",
      "   ------- -------------------------------- 2.6/14.8 MB 87.8 kB/s eta 0:02:19\n",
      "   ------- -------------------------------- 2.6/14.8 MB 87.8 kB/s eta 0:02:19\n",
      "   ------- -------------------------------- 2.6/14.8 MB 87.8 kB/s eta 0:02:19\n",
      "   ------- -------------------------------- 2.6/14.8 MB 87.8 kB/s eta 0:02:19\n",
      "   ------- -------------------------------- 2.6/14.8 MB 87.8 kB/s eta 0:02:19\n",
      "   ------- -------------------------------- 2.6/14.8 MB 87.8 kB/s eta 0:02:19\n",
      "   ------- -------------------------------- 2.6/14.8 MB 87.8 kB/s eta 0:02:19\n",
      "   ------- -------------------------------- 2.6/14.8 MB 87.8 kB/s eta 0:02:19\n",
      "   ------- -------------------------------- 2.6/14.8 MB 87.8 kB/s eta 0:02:19\n",
      "   ------- -------------------------------- 2.6/14.8 MB 87.8 kB/s eta 0:02:19\n",
      "   ------- -------------------------------- 2.6/14.8 MB 87.8 kB/s eta 0:02:19\n",
      "   ------- -------------------------------- 2.6/14.8 MB 87.8 kB/s eta 0:02:19\n",
      "   ------- -------------------------------- 2.6/14.8 MB 87.8 kB/s eta 0:02:19\n",
      "   ------- -------------------------------- 2.6/14.8 MB 87.8 kB/s eta 0:02:19\n",
      "   ------- -------------------------------- 2.6/14.8 MB 87.8 kB/s eta 0:02:19\n",
      "   ------- -------------------------------- 2.6/14.8 MB 87.8 kB/s eta 0:02:19\n",
      "   ------- -------------------------------- 2.6/14.8 MB 87.8 kB/s eta 0:02:19\n",
      "   ------- -------------------------------- 2.6/14.8 MB 87.8 kB/s eta 0:02:19\n",
      "   ------- -------------------------------- 2.6/14.8 MB 87.8 kB/s eta 0:02:19\n",
      "   ------- -------------------------------- 2.6/14.8 MB 87.8 kB/s eta 0:02:19\n",
      "   ------- -------------------------------- 2.6/14.8 MB 87.8 kB/s eta 0:02:19\n",
      "   ------- -------------------------------- 2.6/14.8 MB 87.8 kB/s eta 0:02:19\n",
      "   ------- -------------------------------- 2.6/14.8 MB 87.8 kB/s eta 0:02:19\n",
      "   ------- -------------------------------- 2.6/14.8 MB 87.8 kB/s eta 0:02:19\n",
      "Note: you may need to restart the kernel to use updated packages.\n"
     ]
    },
    {
     "name": "stderr",
     "output_type": "stream",
     "text": [
      "\n",
      "[notice] A new release of pip is available: 24.3.1 -> 25.0.1\n",
      "[notice] To update, run: python.exe -m pip install --upgrade pip\n",
      "ERROR: Exception:\n",
      "Traceback (most recent call last):\n",
      "  File \"c:\\Users\\Pr\\AppData\\Local\\Programs\\Python\\Python311\\Lib\\site-packages\\pip\\_vendor\\urllib3\\response.py\", line 438, in _error_catcher\n",
      "    yield\n",
      "  File \"c:\\Users\\Pr\\AppData\\Local\\Programs\\Python\\Python311\\Lib\\site-packages\\pip\\_vendor\\urllib3\\response.py\", line 561, in read\n",
      "    data = self._fp_read(amt) if not fp_closed else b\"\"\n",
      "           ^^^^^^^^^^^^^^^^^^\n",
      "  File \"c:\\Users\\Pr\\AppData\\Local\\Programs\\Python\\Python311\\Lib\\site-packages\\pip\\_vendor\\urllib3\\response.py\", line 527, in _fp_read\n",
      "    return self._fp.read(amt) if amt is not None else self._fp.read()\n",
      "           ^^^^^^^^^^^^^^^^^^\n",
      "  File \"c:\\Users\\Pr\\AppData\\Local\\Programs\\Python\\Python311\\Lib\\site-packages\\pip\\_vendor\\cachecontrol\\filewrapper.py\", line 98, in read\n",
      "    data: bytes = self.__fp.read(amt)\n",
      "                  ^^^^^^^^^^^^^^^^^^^\n",
      "  File \"c:\\Users\\Pr\\AppData\\Local\\Programs\\Python\\Python311\\Lib\\http\\client.py\", line 473, in read\n",
      "    s = self.fp.read(amt)\n",
      "        ^^^^^^^^^^^^^^^^^\n",
      "  File \"c:\\Users\\Pr\\AppData\\Local\\Programs\\Python\\Python311\\Lib\\socket.py\", line 706, in readinto\n",
      "    return self._sock.recv_into(b)\n",
      "           ^^^^^^^^^^^^^^^^^^^^^^^\n",
      "  File \"c:\\Users\\Pr\\AppData\\Local\\Programs\\Python\\Python311\\Lib\\ssl.py\", line 1315, in recv_into\n",
      "    return self.read(nbytes, buffer)\n",
      "           ^^^^^^^^^^^^^^^^^^^^^^^^^\n",
      "  File \"c:\\Users\\Pr\\AppData\\Local\\Programs\\Python\\Python311\\Lib\\ssl.py\", line 1167, in read\n",
      "    return self._sslobj.read(len, buffer)\n",
      "           ^^^^^^^^^^^^^^^^^^^^^^^^^^^^^^\n",
      "TimeoutError: The read operation timed out\n",
      "\n",
      "During handling of the above exception, another exception occurred:\n",
      "\n",
      "Traceback (most recent call last):\n",
      "  File \"c:\\Users\\Pr\\AppData\\Local\\Programs\\Python\\Python311\\Lib\\site-packages\\pip\\_internal\\cli\\base_command.py\", line 105, in _run_wrapper\n",
      "    status = _inner_run()\n",
      "             ^^^^^^^^^^^^\n",
      "  File \"c:\\Users\\Pr\\AppData\\Local\\Programs\\Python\\Python311\\Lib\\site-packages\\pip\\_internal\\cli\\base_command.py\", line 96, in _inner_run\n",
      "    return self.run(options, args)\n",
      "           ^^^^^^^^^^^^^^^^^^^^^^^\n",
      "  File \"c:\\Users\\Pr\\AppData\\Local\\Programs\\Python\\Python311\\Lib\\site-packages\\pip\\_internal\\cli\\req_command.py\", line 67, in wrapper\n",
      "    return func(self, options, args)\n",
      "           ^^^^^^^^^^^^^^^^^^^^^^^^^\n",
      "  File \"c:\\Users\\Pr\\AppData\\Local\\Programs\\Python\\Python311\\Lib\\site-packages\\pip\\_internal\\commands\\install.py\", line 379, in run\n",
      "    requirement_set = resolver.resolve(\n",
      "                      ^^^^^^^^^^^^^^^^^\n",
      "  File \"c:\\Users\\Pr\\AppData\\Local\\Programs\\Python\\Python311\\Lib\\site-packages\\pip\\_internal\\resolution\\resolvelib\\resolver.py\", line 179, in resolve\n",
      "    self.factory.preparer.prepare_linked_requirements_more(reqs)\n",
      "  File \"c:\\Users\\Pr\\AppData\\Local\\Programs\\Python\\Python311\\Lib\\site-packages\\pip\\_internal\\operations\\prepare.py\", line 554, in prepare_linked_requirements_more\n",
      "    self._complete_partial_requirements(\n",
      "  File \"c:\\Users\\Pr\\AppData\\Local\\Programs\\Python\\Python311\\Lib\\site-packages\\pip\\_internal\\operations\\prepare.py\", line 469, in _complete_partial_requirements\n",
      "    for link, (filepath, _) in batch_download:\n",
      "  File \"c:\\Users\\Pr\\AppData\\Local\\Programs\\Python\\Python311\\Lib\\site-packages\\pip\\_internal\\network\\download.py\", line 184, in __call__\n",
      "    for chunk in chunks:\n",
      "  File \"c:\\Users\\Pr\\AppData\\Local\\Programs\\Python\\Python311\\Lib\\site-packages\\pip\\_internal\\cli\\progress_bars.py\", line 55, in _rich_progress_bar\n",
      "    for chunk in iterable:\n",
      "  File \"c:\\Users\\Pr\\AppData\\Local\\Programs\\Python\\Python311\\Lib\\site-packages\\pip\\_internal\\network\\utils.py\", line 65, in response_chunks\n",
      "    for chunk in response.raw.stream(\n",
      "  File \"c:\\Users\\Pr\\AppData\\Local\\Programs\\Python\\Python311\\Lib\\site-packages\\pip\\_vendor\\urllib3\\response.py\", line 622, in stream\n",
      "    data = self.read(amt=amt, decode_content=decode_content)\n",
      "           ^^^^^^^^^^^^^^^^^^^^^^^^^^^^^^^^^^^^^^^^^^^^^^^^^\n",
      "  File \"c:\\Users\\Pr\\AppData\\Local\\Programs\\Python\\Python311\\Lib\\site-packages\\pip\\_vendor\\urllib3\\response.py\", line 560, in read\n",
      "    with self._error_catcher():\n",
      "  File \"c:\\Users\\Pr\\AppData\\Local\\Programs\\Python\\Python311\\Lib\\contextlib.py\", line 158, in __exit__\n",
      "    self.gen.throw(typ, value, traceback)\n",
      "  File \"c:\\Users\\Pr\\AppData\\Local\\Programs\\Python\\Python311\\Lib\\site-packages\\pip\\_vendor\\urllib3\\response.py\", line 443, in _error_catcher\n",
      "    raise ReadTimeoutError(self._pool, None, \"Read timed out.\")\n",
      "pip._vendor.urllib3.exceptions.ReadTimeoutError: HTTPSConnectionPool(host='files.pythonhosted.org', port=443): Read timed out.\n"
     ]
    }
   ],
   "source": [
    "pip install plotly"
   ]
  },
  {
   "cell_type": "code",
   "execution_count": null,
   "metadata": {},
   "outputs": [],
   "source": [
    "## Librairies pour le NLP\n",
    "import sting, re, nltk\n",
    "from string import punctuation\n",
    "from nltk.tokenize import word_tokennize, RegexpTokenizer\n",
    "from nltk.corpus import stopwords\n",
    "#pip install spacy\n",
    "import spacy\n",
    "from nltk.stem import WorNetLemmatizer\n",
    "#pip install nu2words\n",
    "from num2words import num2words\n",
    "from spellchecker import SpellChecker\n",
    "from nltk.stem.porter import PorterStemmer\n"
   ]
  },
  {
   "cell_type": "code",
   "execution_count": 73,
   "metadata": {},
   "outputs": [],
   "source": [
    "import scipy\n",
    "from scipy import sparse\n",
    "from scipy.sparse import csr_matrix"
   ]
  }
 ],
 "metadata": {
  "kernelspec": {
   "display_name": "Python 3",
   "language": "python",
   "name": "python3"
  },
  "language_info": {
   "codemirror_mode": {
    "name": "ipython",
    "version": 3
   },
   "file_extension": ".py",
   "mimetype": "text/x-python",
   "name": "python",
   "nbconvert_exporter": "python",
   "pygments_lexer": "ipython3",
   "version": "3.11.7"
  }
 },
 "nbformat": 4,
 "nbformat_minor": 2
}
